{
 "cells": [
  {
   "cell_type": "code",
   "execution_count": 1,
   "id": "3a2bdbde-7f69-4b8f-ad42-4eb89c90167f",
   "metadata": {},
   "outputs": [],
   "source": [
    "import yaeos\n",
    "from yaeos import PengRobinson76, QMR\n",
    "import numpy as np"
   ]
  },
  {
   "cell_type": "code",
   "execution_count": 2,
   "id": "85ff95ba-7a1a-4ca3-bec1-3c5bb50325ea",
   "metadata": {},
   "outputs": [
    {
     "data": {
      "text/plain": [
       "{'ln_phi': array([-0.18662712, -0.16554916]),\n",
       " 'dt': None,\n",
       " 'dp': None,\n",
       " 'dn': array([[-0.00186921,  0.00934604],\n",
       "        [ 0.00934604, -0.04673019]])}"
      ]
     },
     "execution_count": 2,
     "metadata": {},
     "output_type": "execute_result"
    }
   ],
   "source": [
    "# Number of components, for easier definition\n",
    "nc = 2\n",
    "\n",
    "# kij and lij matrices\n",
    "k12 = 0.1\n",
    "lij = kij = np.zeros((nc,nc))\n",
    "kij[0,1] = kij[1,0] = k12\n",
    "\n",
    "mixrule = QMR(kij, lij)\n",
    "\n",
    "# Critical constants\n",
    "Tc = [320, 375]\n",
    "Pc = [30, 45]\n",
    "w = [0.0123, 0.045]\n",
    "\n",
    "model = PengRobinson76(Tc, Pc, w, mixrule)\n",
    "\n",
    "\n",
    "n = [1.0, 0.2]\n",
    "model.lnphi_vt(n, v=2.0, t=303.15, dn=True)"
   ]
  },
  {
   "cell_type": "markdown",
   "id": "86560ba3",
   "metadata": {},
   "source": [
    "# Calculating an isotherm"
   ]
  },
  {
   "cell_type": "code",
   "execution_count": 3,
   "id": "cf0a8e95",
   "metadata": {},
   "outputs": [
    {
     "data": {
      "image/png": "[encoded data removed]",
      "text/plain": [
       "<Figure size 640x480 with 1 Axes>"
      ]
     },
     "metadata": {},
     "output_type": "display_data"
    }
   ],
   "source": [
    "import yaeos as chadeos\n",
    "import numpy as np\n",
    "import matplotlib.pyplot as plt\n",
    "\n",
    "nc = 2\n",
    "n = [0.4, 0.6]\n",
    "Tc = [190.564, 425.12]\n",
    "Pc = [45.99, 37.96]\n",
    "w = [0.0115478, 0.200164]\n",
    "\n",
    "lij = kij = np.zeros((nc,nc))\n",
    "mixrule = chadeos.QMR(kij, lij)\n",
    "model = chadeos.PengRobinson76(Tc, Pc, w, mixrule)\n",
    "\n",
    "V = 1.0\n",
    "T = 303.150\n",
    "ts = [150, 200, 300, 400]\n",
    "\n",
    "for T in ts:\n",
    "    vs = np.linspace(0.01, 5, 1000)\n",
    "    ps = [\n",
    "        model.pressure(n, V, T, dn=True, dt=True, dv=True)[\"P\"] \n",
    "        for V in vs\n",
    "    ]\n",
    "\n",
    "    plt.plot(vs, ps)\n",
    "    plt.xlim(0.01, None)\n",
    "    plt.ylim(-100, 100)\n",
    "plt.show()"
   ]
  },
  {
   "cell_type": "markdown",
   "id": "2a22a2d7",
   "metadata": {},
   "source": [
    "# Flash PT"
   ]
  },
  {
   "cell_type": "code",
   "execution_count": 1,
   "id": "13bfe42b",
   "metadata": {},
   "outputs": [
    {
     "name": "stdout",
     "output_type": "stream",
     "text": [
      "60.0 294.0\n"
     ]
    },
    {
     "data": {
      "text/plain": [
       "array([0.32424472, 0.67575528])"
      ]
     },
     "execution_count": 1,
     "metadata": {},
     "output_type": "execute_result"
    },
    {
     "name": "stdout",
     "output_type": "stream",
     "text": [
      "   294.00000000000000        60.000000000000000     \n"
     ]
    }
   ],
   "source": [
    "import yaeos\n",
    "import numpy as np\n",
    "\n",
    "P, T = 60.0, 294.0\n",
    "\n",
    "n = [0.4, 0.6]\n",
    "tc = [190.564, 425.12]\n",
    "pc = [45.99, 37.96]\n",
    "w = [0.0115478, 0.200164]\n",
    "model = yaeos.PengRobinson76(tc, pc, w)\n",
    "model.flash_pt(n, P, T)[\"x\"]"
   ]
  },
  {
   "cell_type": "code",
   "execution_count": null,
   "id": "5e06f2a9",
   "metadata": {},
   "outputs": [],
   "source": [
    "ts = np.linspace(300, 400, 5, dtype=np.float64)\n",
    "ps = np.linspace(60, 100, 5, dtype=np.float64)\n",
    "betas = []\n",
    "\n",
    "t = []\n",
    "p = []"
   ]
  },
  {
   "cell_type": "code",
   "execution_count": null,
   "id": "2c94485b",
   "metadata": {},
   "outputs": [],
   "source": [
    "for i in range(len(ts)):\n",
    "    for j in range(len(ps)):\n",
    "       model.flash_pt(n, pressure=ps[j], temperature=ts[i])"
   ]
  },
  {
   "cell_type": "code",
   "execution_count": null,
   "id": "7c42b4fe",
   "metadata": {},
   "outputs": [],
   "source": [
    "import matplotlib.pyplot as plt\n",
    "plt.scatter(t, p, c=betas)"
   ]
  },
  {
   "cell_type": "markdown",
   "id": "73924e0d",
   "metadata": {},
   "source": [
    "## Modified Huron-Vidal MixingRule"
   ]
  },
  {
   "cell_type": "code",
   "execution_count": null,
   "id": "a0a29755",
   "metadata": {},
   "outputs": [],
   "source": [
    "%%time\n",
    "from yaeos import NRTL, MHV, PengRobinson76, yaeos_c, QMR\n",
    "import numpy as np\n",
    "import matplotlib.pyplot as plt\n",
    "\n",
    "nc = 2\n",
    "tc = [647.14, 513.92]\n",
    "pc = [220.64, 61.48]\n",
    "w =  [0.344, 0.649]\n",
    "\n",
    "a = [[0, 3.458], [-0.801, 0]]\n",
    "b = [[0, -586.1], [246.2, 0]]\n",
    "c = [[0, 0.3], [0.3, 0]]\n",
    "\n",
    "b = np.array(b)\n",
    "\n",
    "ge_model = NRTL(a, b, c)\n",
    "mixrule = MHV(ge_model, q=-0.53)\n",
    "\n",
    "null_mixing = QMR(np.zeros((nc,nc)), np.zeros((nc,nc)))\n",
    "\n",
    "model_stock = PengRobinson76(tc, pc, w, null_mixing)\n",
    "model_mhv = PengRobinson76(tc, pc, w, mixrule)\n",
    "\n",
    "colors = [\"red\", \"green\", \"blue\", \"orange\", \"black\"]\n",
    "ts = np.linspace(50+273, 200+273, 9)\n",
    "import time\n",
    "for i, T in enumerate(ts):\n",
    "    i=4\n",
    "    xs = np.linspace(0.001, 0.999, 100)\n",
    "    ys = []\n",
    "    ps = []\n",
    "\n",
    "    st = time.time()\n",
    "    \n",
    "    for x1 in xs:\n",
    "        x = [x1, 1-x1]\n",
    "        sat = model_mhv.saturation_pressure(x, T, \"bubble\")\n",
    "        p, y = sat[\"P\"], sat[\"y\"]\n",
    "        ps.append(p)\n",
    "        ys.append(y[0])\n",
    "\n",
    "    plt.plot(xs, ps, color=colors[i])\n",
    "    plt.plot(ys, ps, color=colors[i])"
   ]
  },
  {
   "cell_type": "markdown",
   "id": "9ba9be74",
   "metadata": {},
   "source": [
    "# Phase envelope tracing"
   ]
  },
  {
   "cell_type": "code",
   "execution_count": null,
   "id": "bac65808",
   "metadata": {},
   "outputs": [],
   "source": [
    "import yaeos\n",
    "import matplotlib.pyplot as plt\n",
    "import numpy as np\n",
    "import chemicals"
   ]
  },
  {
   "cell_type": "code",
   "execution_count": null,
   "id": "9de1de8b",
   "metadata": {},
   "outputs": [],
   "source": [
    "names = [\"methane\", \"n-decane\", \"propane\", \"hexatriacontane\"]\n",
    "chems = []\n",
    "\n",
    "Tc = []\n",
    "Pc = []\n",
    "w = []\n",
    "zc = []\n",
    "for c in names:\n",
    "    chem = chemicals.CAS_from_any(c)\n",
    "    Tc.append(chemicals.Tc(chem))\n",
    "    Pc.append(chemicals.Pc(chem)/1e5)\n",
    "    w.append(chemicals.acentric.omega(chem))\n",
    "    zc.append(chemicals.Zc(chem))\n",
    "\n",
    "print(Tc)\n",
    "print(Pc)\n",
    "print(w)\n",
    "print(zc)"
   ]
  },
  {
   "cell_type": "code",
   "execution_count": null,
   "id": "21c0ea1a",
   "metadata": {},
   "outputs": [],
   "source": [
    "z = np.ones(len(names))\n",
    "z = z/z.sum()\n",
    "\n",
    "models = [\n",
    "    yaeos.PengRobinson76,\n",
    "    yaeos.RKPR,\n",
    "    yaeos.PengRobinson78,\n",
    "    yaeos.SoaveRedlichKwong,\n",
    "]\n",
    "\n",
    "for m in models:\n",
    "    if m == yaeos.RKPR:\n",
    "        model = m(Tc, Pc, w, zc)\n",
    "    else:\n",
    "        model = m(Tc, Pc, w)\n",
    "    T, P, Tcs, Pcs = model.phase_envelope_pt(\n",
    "        z, kind=\"dew\", T0=150, P0=0.01, max_points=350\n",
    "        )\n",
    "    plt.plot(T, P, label=model.name)\n",
    "    plt.scatter(Tcs, Pcs, label=model.name + \"-CP\")\n",
    "\n",
    "plt.legend()\n",
    "plt.show()"
   ]
  },
  {
   "cell_type": "code",
   "execution_count": null,
   "id": "da909167",
   "metadata": {},
   "outputs": [],
   "source": [
    "from ipywidgets import interact, fixed\n",
    "import ipywidgets as widgets\n",
    "\n",
    "from functools import cache"
   ]
  },
  {
   "cell_type": "code",
   "execution_count": null,
   "id": "61e58514",
   "metadata": {},
   "outputs": [],
   "source": [
    "%matplotlib widget\n",
    "x = np.linspace(-10, 10,100)\n",
    "\n",
    "def f(x, A, B, C):\n",
    "    return A*x**2 + B*x + C\n",
    "\n",
    "fig = plt.figure()\n",
    "ax = fig.add_subplot(1, 1, 1)\n",
    "line, = ax.plot(x, f(x, A=1, B=1, C=1))\n",
    "\n",
    "@cache\n",
    "def run(i, x, n):\n",
    "    z = np.ones(n)\n",
    "    z[i] = x\n",
    "    exclude = [i]\n",
    "    mask = np.ones(z.shape, bool)\n",
    "    mask[exclude] = False\n",
    "    z[mask] = (1 - x)/2\n",
    "    \n",
    "    z = z/sum(z)\n",
    "    print(z)\n",
    "\n",
    "    models = [\n",
    "        yaeos.PengRobinson76,\n",
    "        yaeos.RKPR,\n",
    "        # yaeos.PengRobinson78,\n",
    "        # yaeos.SoaveRedlichKwong,\n",
    "    ]\n",
    "\n",
    "    ax.clear()\n",
    "    for m in models:\n",
    "        if m == yaeos.RKPR:\n",
    "            model = m(Tc, Pc, w, zc)\n",
    "        else:\n",
    "            model = m(Tc, Pc, w)\n",
    "        T, P, Tcs, Pcs = model.phase_envelope_pt(\n",
    "            z, kind=\"dew\", T0=150, P0=0.01, max_points=1000\n",
    "            )\n",
    "        ax.plot(T, P, label=model.name)\n",
    "        T, P, Tcs, Pcs = model.phase_envelope_pt(\n",
    "            z, kind=\"bubble\", T0=150, P0=0.01, max_points=1000\n",
    "            )\n",
    "        ax.plot(T, P, label=model.name, zorder=9)\n",
    "    plt.legend()\n",
    "    \n",
    "    ax.set_xlim(0, 1000)\n",
    "    ax.set_ylim(0, 550)\n",
    "    return T, P\n",
    "\n",
    "def update(i, x, n):\n",
    "    T, P = run(i, x, n)\n",
    "\n",
    "interact(update, i=[i for i in range(len(Tc))], x=(0.0001, 0.9999, 0.01), n=fixed(len(Tc)))"
   ]
  },
  {
   "cell_type": "markdown",
   "id": "6d4e1691",
   "metadata": {},
   "source": [
    "# RKPR"
   ]
  },
  {
   "cell_type": "code",
   "execution_count": null,
   "id": "272019e3",
   "metadata": {},
   "outputs": [],
   "source": [
    "import yaeos\n",
    "from ipywidgets import interact, fixed, FloatSlider\n",
    "import ipywidgets as widgets\n",
    "import matplotlib.pyplot as plt\n",
    "import numpy as np\n",
    "import chemicals"
   ]
  },
  {
   "cell_type": "code",
   "execution_count": null,
   "id": "70c3ad25",
   "metadata": {},
   "outputs": [],
   "source": [
    "names = [\"methane\", \"n-propane\", \"n-decane\", \"hexatriacontane\"]\n",
    "chems = []\n",
    "\n",
    "Tc = []\n",
    "Pc = []\n",
    "w = []\n",
    "zc = []\n",
    "for c in names:\n",
    "    chem = chemicals.CAS_from_any(c)\n",
    "    Tc.append(chemicals.Tc(chem))\n",
    "    Pc.append(chemicals.Pc(chem)/1e5)\n",
    "    w.append(chemicals.acentric.omega(chem))\n",
    "    zc.append(chemicals.Zc(chem))"
   ]
  },
  {
   "cell_type": "code",
   "execution_count": null,
   "id": "e09862fb",
   "metadata": {},
   "outputs": [],
   "source": [
    "%matplotlib widget\n",
    "\n",
    "x = np.linspace(-10, 10,100)\n",
    "def f(x, A, B, C):\n",
    "    return A*x**2 + B*x + C\n",
    "fig = plt.figure()\n",
    "ax = fig.add_subplot(1, 1, 1)\n",
    "line, = ax.plot(x, f(x, A=1, B=1, C=1))\n",
    "\n",
    "z = np.ones(len(names))\n",
    "z = z/z.sum()\n",
    "sliders = []\n",
    "for i in range(len(names)):\n",
    "    sliders.append(\n",
    "        FloatSlider(\n",
    "            value=0.1, min=1e-5, max=15, step=0.01, \n",
    "            description=names[i]\n",
    "        )\n",
    "    )\n",
    "\n",
    "def run(d1, d2, d3, d4):\n",
    "    print(d1, d2, d3, d4)\n",
    "    ax.clear()\n",
    "    model = yaeos.RKPR(Tc, Pc, w, zc, delta_1=[d1, d2, d3, d4])\n",
    "    T, P, Tcs, Pcs = yaeos.yaeos_c.pt2_phase_envelope(\n",
    "                model.id, z, kind=\"dew\", t0=200, p0=0.01, max_points=500\n",
    "                )\n",
    "    ax.plot(T, P)\n",
    "    T, P, Tcs, Pcs = yaeos.yaeos_c.pt2_phase_envelope(\n",
    "                model.id, z, kind=\"bubble\", t0=150, p0=10.0, max_points=500\n",
    "                )\n",
    "    ax.plot(T, P)\n",
    "    ax.set_xlim(100, 1000)\n",
    "    ax.set_ylim(1, 150)\n",
    "    return T, P\n",
    "\n",
    "def update(**kwargs):\n",
    "    T, P = run(**kwargs)\n",
    "\n",
    "interact(update, d1=sliders[0], d2=sliders[1], d3=sliders[2], d4=sliders[3])"
   ]
  },
  {
   "cell_type": "code",
   "execution_count": null,
   "id": "f0fb3956",
   "metadata": {},
   "outputs": [],
   "source": []
  }
 ],
 "metadata": {
  "kernelspec": {
   "display_name": "Python 3 (ipykernel)",
   "language": "python",
   "name": "python3"
  },
  "language_info": {
   "codemirror_mode": {
    "name": "ipython",
    "version": 3
   },
   "file_extension": ".py",
   "mimetype": "text/x-python",
   "name": "python",
   "nbconvert_exporter": "python",
   "pygments_lexer": "ipython3",
   "version": "3.12.4"
  }
 },
 "nbformat": 4,
 "nbformat_minor": 5
}
