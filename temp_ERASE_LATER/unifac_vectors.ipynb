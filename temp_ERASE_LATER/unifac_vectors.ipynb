{
 "cells": [
  {
   "cell_type": "code",
   "execution_count": 57,
   "metadata": {},
   "outputs": [],
   "source": [
    "from thermo.unifac import UFSG, UFMG, UFIP, UNIFAC"
   ]
  },
  {
   "cell_type": "markdown",
   "metadata": {},
   "source": [
    "### Subgroups ids"
   ]
  },
  {
   "cell_type": "code",
   "execution_count": 42,
   "metadata": {},
   "outputs": [
    {
     "name": "stdout",
     "output_type": "stream",
     "text": [
      "subgroups_ids = [&\n",
      "1, 2, 3, 4, 5, 6, 7, 8, 9, 10, 11, 12, &\n",
      "13, 14, 15, 16, 17, 18, 19, 20, 21, 22, 23, 24, &\n",
      "25, 26, 27, 28, 29, 30, 31, 32, 33, 34, 35, 36, &\n",
      "37, 38, 39, 40, 41, 42, 43, 44, 45, 46, 47, 48, &\n",
      "49, 50, 51, 52, 53, 54, 55, 56, 57, 58, 59, 60, &\n",
      "61, 62, 63, 64, 65, 66, 67, 68, 69, 70, 71, 72, &\n",
      "73, 74, 75, 76, 77, 78, 79, 80, 81, 82, 83, 84, &\n",
      "85, 86, 87, 88, 89, 90, 91, 92, 93, 94, 95, 96, &\n",
      "97, 98, 99, 100, 101, 102, 103, 104, 105, 106, 107, 108, &\n",
      "109, 118, 119, 178, 179, "
     ]
    }
   ],
   "source": [
    "print(\"subgroups_ids = [&\")\n",
    "\n",
    "counter = 0\n",
    "for sg in UFSG.keys():\n",
    "    print(sg, end=\", \")\n",
    "    \n",
    "    counter += 1\n",
    "\n",
    "    if counter == 12:\n",
    "        print(\"&\")\n",
    "        counter = 0\n",
    "    \n"
   ]
  },
  {
   "cell_type": "markdown",
   "metadata": {},
   "source": [
    "### Maingroups ids"
   ]
  },
  {
   "cell_type": "code",
   "execution_count": 54,
   "metadata": {},
   "outputs": [
    {
     "name": "stdout",
     "output_type": "stream",
     "text": [
      "maingroups_ids = [&\n",
      " 1,  2,  3,  4,  5,  6, &\n",
      " 7,  8,  9, 10, 11, 12, &\n",
      "13, 14, 15, 16, 17, 18, &\n",
      "19, 20, 21, 22, 23, 24, &\n",
      "25, 26, 27, 28, 29, 30, &\n",
      "31, 32, 33, 34, 35, 36, &\n",
      "37, 38, 39, 40, 41, 42, &\n",
      "43, 44, 45, 46, 47, 48, &\n",
      "49, 50, 51, 55, 84, 85, &\n",
      "]\n"
     ]
    }
   ],
   "source": [
    "print(\"maingroups_ids = [&\")\n",
    "\n",
    "counter = 0\n",
    "for mg in UFMG.keys():\n",
    "    if mg // 10 > 0:\n",
    "        print(mg, end=\", \")\n",
    "    else:\n",
    "        print(f\" {mg}\", end=\", \")\n",
    "    \n",
    "    counter += 1\n",
    "\n",
    "    if counter == 6:\n",
    "        print(\"&\")\n",
    "        counter = 0\n",
    "\n",
    "print(\"]\")"
   ]
  },
  {
   "cell_type": "markdown",
   "metadata": {},
   "source": [
    "### Subgroups Maingroups"
   ]
  },
  {
   "cell_type": "code",
   "execution_count": 77,
   "metadata": {},
   "outputs": [
    {
     "name": "stdout",
     "output_type": "stream",
     "text": [
      "subgroups_maingroups = [&\n",
      "1, 1, 1, 1, 2, 2, 2, 2, 3, 3, 4, 4, &\n",
      "4, 5, 6, 7, 8, 9, 9, 10, 11, 11, 12, 13, &\n",
      "13, 13, 13, 14, 14, 14, 15, 15, 15, 16, 16, 17, &\n",
      "18, 18, 18, 19, 19, 20, 20, 21, 21, 21, 22, 22, &\n",
      "22, 23, 23, 24, 25, 26, 26, 26, 27, 28, 29, 29, &\n",
      "30, 31, 32, 33, 34, 34, 35, 36, 37, 2, 38, 39, &\n",
      "39, 40, 40, 40, 41, 42, 42, 42, 42, 43, 43, 43, &\n",
      "44, 45, 45, 45, 45, 45, 45, 45, 45, 46, 46, 46, &\n",
      "46, 46, 46, 47, 47, 48, 48, 48, 49, 50, 50, 50, &\n",
      "51, 55, 55, 84, 85, \n",
      "]\n"
     ]
    }
   ],
   "source": [
    "print(\"subgroups_maingroups = [&\")\n",
    "\n",
    "counter = 0\n",
    "for sg in UFSG.keys():\n",
    "    print(UFSG[sg].main_group_id, end=\", \")\n",
    "    \n",
    "    counter += 1\n",
    "\n",
    "    if counter == 12:\n",
    "        print(\"&\")\n",
    "        counter = 0\n",
    "\n",
    "print(\"\\n]\")"
   ]
  },
  {
   "cell_type": "markdown",
   "metadata": {},
   "source": [
    "### Subgroups Rs"
   ]
  },
  {
   "cell_type": "code",
   "execution_count": null,
   "metadata": {},
   "outputs": [],
   "source": [
    "print(\"subgroups_Rs = [&\")\n",
    "\n",
    "counter = 0\n",
    "for sg in UFSG.keys():\n",
    "    print(UFSG[sg].main_group_id, end=\", \")\n",
    "    \n",
    "    counter += 1\n",
    "\n",
    "    if counter == 12:\n",
    "        print(\"&\")\n",
    "        counter = 0\n",
    "\n",
    "print(\"\\n]\")"
   ]
  }
 ],
 "metadata": {
  "kernelspec": {
   "display_name": "utility",
   "language": "python",
   "name": "python3"
  },
  "language_info": {
   "codemirror_mode": {
    "name": "ipython",
    "version": 3
   },
   "file_extension": ".py",
   "mimetype": "text/x-python",
   "name": "python",
   "nbconvert_exporter": "python",
   "pygments_lexer": "ipython3",
   "version": "3.10.12"
  }
 },
 "nbformat": 4,
 "nbformat_minor": 2
}
